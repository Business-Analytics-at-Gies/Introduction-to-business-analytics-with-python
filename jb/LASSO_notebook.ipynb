{
 "cells": [
  {
   "cell_type": "markdown",
   "metadata": {},
   "source": [
    "# LASSO Regression"
   ]
  },
  {
   "cell_type": "code",
   "execution_count": 47,
   "metadata": {},
   "outputs": [],
   "source": [
    "import pandas as pd\n",
    "import numpy as np\n",
    "\n",
    "from sklearn.model_selection import train_test_split\n",
    "from sklearn.linear_model import LinearRegression\n",
    "from sklearn.linear_model import Lasso\n",
    "\n",
    "import matplotlib.pyplot as plt\n",
    "import seaborn as sns\n",
    "\n",
    "from dmba import regressionSummary\n",
    "%matplotlib inline"
   ]
  },
  {
   "cell_type": "markdown",
   "metadata": {},
   "source": [
    "## Overview\n",
    "\n",
    "The Lasso is a shrinkage and selection method for linear regression. It minimizes the usual sum of squared errors, with a bound on the sum of the absolute values of the coefficients. \n",
    "\n",
    "It includes a \"penalty\" that is based on aggregation of coefficient values. Standardizing the variable is important in this method, as this will prepare your data for wrangling and will allow you to draw clearer conclusions.\n",
    "\n",
    "In this chapter we will provide an example of how to implement LASSO. This is a feature selection method that shrinks our coefficient estimates ($\\hat{\\beta}_i$s) towards zero, even setting some to be 0. This helps us create an easier-to-interpret model and reduces the risk of overfitting. (Recall, overfitting my model means I've made a model that fits too closely to the training data but isn't generalizable to other data - therefore, it won't make good predictions.)\n",
    "\n",
    "We'll implement LASSO using our beloved Toyota Corolla dataset. In the MLR notebook, we learned how to use MLR to make predictions about the price a used Toyota Corolla would sell for based on car features. In this notebook, we'll learn how to use LASSO to make those predictions. "
   ]
  },
  {
   "cell_type": "markdown",
   "metadata": {},
   "source": [
    "### Toyota Corollas Data\n",
    "This data represents the sale of used Toyota Corollas in the Netherlands, and our mission is to **predict the price of a car based on its options and features**. \n",
    "\n",
    "Below, we show descriptions of some of the variables in our dataset.\n",
    "\n",
    "| Variable   | Description                           |\n",
    "|------------|---------------------------------------|\n",
    "| Price      | Offer price in Euros                  |\n",
    "| Age        | Age in months as of August 2004       |\n",
    "| Kilometers | Accumulated Kilometers on odometer    |\n",
    "| Fuel type  | Fuel type (Petrol, Diesel, CNG)       |\n",
    "| HP         | Horsepower                            |\n",
    "| Metallic   | Metallic color (Yes = 1, No= 0)       |\n",
    "| Automatic  | Automatic (Yes = 1, No = 0)           |\n",
    "| CC         | Cylinder volume in cubic centimeters  |\n",
    "| Doors      | Number of doors                       |\n",
    "| QuartTax   | Quarterly road tax in Euros           |\n",
    "| Weight     | Weight in Kilograms                   |"
   ]
  },
  {
   "cell_type": "markdown",
   "metadata": {},
   "source": [
    "## Data Processing"
   ]
  },
  {
   "cell_type": "markdown",
   "metadata": {},
   "source": [
    "Read the data using the ```read_csv``` function from pandas package and save it as the dataframe `car_df`. The data is called `'ToyotaCorolla.csv'`. Use the `.head()` method to make sure the dataframe has been created correctly."
   ]
  },
  {
   "cell_type": "code",
   "execution_count": 2,
   "metadata": {},
   "outputs": [
    {
     "data": {
      "text/html": [
       "<div>\n",
       "<style scoped>\n",
       "    .dataframe tbody tr th:only-of-type {\n",
       "        vertical-align: middle;\n",
       "    }\n",
       "\n",
       "    .dataframe tbody tr th {\n",
       "        vertical-align: top;\n",
       "    }\n",
       "\n",
       "    .dataframe thead th {\n",
       "        text-align: right;\n",
       "    }\n",
       "</style>\n",
       "<table border=\"1\" class=\"dataframe\">\n",
       "  <thead>\n",
       "    <tr style=\"text-align: right;\">\n",
       "      <th></th>\n",
       "      <th>Id</th>\n",
       "      <th>Model</th>\n",
       "      <th>Price</th>\n",
       "      <th>Age_08_04</th>\n",
       "      <th>Mfg_Month</th>\n",
       "      <th>Mfg_Year</th>\n",
       "      <th>KM</th>\n",
       "      <th>Fuel_Type</th>\n",
       "      <th>HP</th>\n",
       "      <th>Met_Color</th>\n",
       "      <th>...</th>\n",
       "      <th>Powered_Windows</th>\n",
       "      <th>Power_Steering</th>\n",
       "      <th>Radio</th>\n",
       "      <th>Mistlamps</th>\n",
       "      <th>Sport_Model</th>\n",
       "      <th>Backseat_Divider</th>\n",
       "      <th>Metallic_Rim</th>\n",
       "      <th>Radio_cassette</th>\n",
       "      <th>Parking_Assistant</th>\n",
       "      <th>Tow_Bar</th>\n",
       "    </tr>\n",
       "  </thead>\n",
       "  <tbody>\n",
       "    <tr>\n",
       "      <th>0</th>\n",
       "      <td>1</td>\n",
       "      <td>TOYOTA Corolla 2.0 D4D HATCHB TERRA 2/3-Doors</td>\n",
       "      <td>13500</td>\n",
       "      <td>23</td>\n",
       "      <td>10</td>\n",
       "      <td>2002</td>\n",
       "      <td>46986</td>\n",
       "      <td>Diesel</td>\n",
       "      <td>90</td>\n",
       "      <td>1</td>\n",
       "      <td>...</td>\n",
       "      <td>1</td>\n",
       "      <td>1</td>\n",
       "      <td>0</td>\n",
       "      <td>0</td>\n",
       "      <td>0</td>\n",
       "      <td>1</td>\n",
       "      <td>0</td>\n",
       "      <td>0</td>\n",
       "      <td>0</td>\n",
       "      <td>0</td>\n",
       "    </tr>\n",
       "    <tr>\n",
       "      <th>1</th>\n",
       "      <td>2</td>\n",
       "      <td>TOYOTA Corolla 2.0 D4D HATCHB TERRA 2/3-Doors</td>\n",
       "      <td>13750</td>\n",
       "      <td>23</td>\n",
       "      <td>10</td>\n",
       "      <td>2002</td>\n",
       "      <td>72937</td>\n",
       "      <td>Diesel</td>\n",
       "      <td>90</td>\n",
       "      <td>1</td>\n",
       "      <td>...</td>\n",
       "      <td>0</td>\n",
       "      <td>1</td>\n",
       "      <td>0</td>\n",
       "      <td>0</td>\n",
       "      <td>0</td>\n",
       "      <td>1</td>\n",
       "      <td>0</td>\n",
       "      <td>0</td>\n",
       "      <td>0</td>\n",
       "      <td>0</td>\n",
       "    </tr>\n",
       "    <tr>\n",
       "      <th>2</th>\n",
       "      <td>3</td>\n",
       "      <td>TOYOTA Corolla 2.0 D4D HATCHB TERRA 2/3-Doors</td>\n",
       "      <td>13950</td>\n",
       "      <td>24</td>\n",
       "      <td>9</td>\n",
       "      <td>2002</td>\n",
       "      <td>41711</td>\n",
       "      <td>Diesel</td>\n",
       "      <td>90</td>\n",
       "      <td>1</td>\n",
       "      <td>...</td>\n",
       "      <td>0</td>\n",
       "      <td>1</td>\n",
       "      <td>0</td>\n",
       "      <td>0</td>\n",
       "      <td>0</td>\n",
       "      <td>1</td>\n",
       "      <td>0</td>\n",
       "      <td>0</td>\n",
       "      <td>0</td>\n",
       "      <td>0</td>\n",
       "    </tr>\n",
       "    <tr>\n",
       "      <th>3</th>\n",
       "      <td>4</td>\n",
       "      <td>TOYOTA Corolla 2.0 D4D HATCHB TERRA 2/3-Doors</td>\n",
       "      <td>14950</td>\n",
       "      <td>26</td>\n",
       "      <td>7</td>\n",
       "      <td>2002</td>\n",
       "      <td>48000</td>\n",
       "      <td>Diesel</td>\n",
       "      <td>90</td>\n",
       "      <td>0</td>\n",
       "      <td>...</td>\n",
       "      <td>0</td>\n",
       "      <td>1</td>\n",
       "      <td>0</td>\n",
       "      <td>0</td>\n",
       "      <td>0</td>\n",
       "      <td>1</td>\n",
       "      <td>0</td>\n",
       "      <td>0</td>\n",
       "      <td>0</td>\n",
       "      <td>0</td>\n",
       "    </tr>\n",
       "    <tr>\n",
       "      <th>4</th>\n",
       "      <td>5</td>\n",
       "      <td>TOYOTA Corolla 2.0 D4D HATCHB SOL 2/3-Doors</td>\n",
       "      <td>13750</td>\n",
       "      <td>30</td>\n",
       "      <td>3</td>\n",
       "      <td>2002</td>\n",
       "      <td>38500</td>\n",
       "      <td>Diesel</td>\n",
       "      <td>90</td>\n",
       "      <td>0</td>\n",
       "      <td>...</td>\n",
       "      <td>1</td>\n",
       "      <td>1</td>\n",
       "      <td>0</td>\n",
       "      <td>1</td>\n",
       "      <td>0</td>\n",
       "      <td>1</td>\n",
       "      <td>0</td>\n",
       "      <td>0</td>\n",
       "      <td>0</td>\n",
       "      <td>0</td>\n",
       "    </tr>\n",
       "  </tbody>\n",
       "</table>\n",
       "<p>5 rows × 39 columns</p>\n",
       "</div>"
      ],
      "text/plain": [
       "   Id                                           Model  Price  Age_08_04  \\\n",
       "0   1   TOYOTA Corolla 2.0 D4D HATCHB TERRA 2/3-Doors  13500         23   \n",
       "1   2   TOYOTA Corolla 2.0 D4D HATCHB TERRA 2/3-Doors  13750         23   \n",
       "2   3   TOYOTA Corolla 2.0 D4D HATCHB TERRA 2/3-Doors  13950         24   \n",
       "3   4   TOYOTA Corolla 2.0 D4D HATCHB TERRA 2/3-Doors  14950         26   \n",
       "4   5     TOYOTA Corolla 2.0 D4D HATCHB SOL 2/3-Doors  13750         30   \n",
       "\n",
       "   Mfg_Month  Mfg_Year     KM Fuel_Type  HP  Met_Color  ... Powered_Windows  \\\n",
       "0         10      2002  46986    Diesel  90          1  ...               1   \n",
       "1         10      2002  72937    Diesel  90          1  ...               0   \n",
       "2          9      2002  41711    Diesel  90          1  ...               0   \n",
       "3          7      2002  48000    Diesel  90          0  ...               0   \n",
       "4          3      2002  38500    Diesel  90          0  ...               1   \n",
       "\n",
       "   Power_Steering  Radio  Mistlamps  Sport_Model  Backseat_Divider  \\\n",
       "0               1      0          0            0                 1   \n",
       "1               1      0          0            0                 1   \n",
       "2               1      0          0            0                 1   \n",
       "3               1      0          0            0                 1   \n",
       "4               1      0          1            0                 1   \n",
       "\n",
       "   Metallic_Rim  Radio_cassette  Parking_Assistant  Tow_Bar  \n",
       "0             0               0                  0        0  \n",
       "1             0               0                  0        0  \n",
       "2             0               0                  0        0  \n",
       "3             0               0                  0        0  \n",
       "4             0               0                  0        0  \n",
       "\n",
       "[5 rows x 39 columns]"
      ]
     },
     "execution_count": 2,
     "metadata": {},
     "output_type": "execute_result"
    }
   ],
   "source": [
    "car_df = pd.read_csv('ToyotaCorolla.csv')\n",
    "car_df.head()"
   ]
  },
  {
   "cell_type": "markdown",
   "metadata": {},
   "source": [
    "We use the map function to iterate through a list of values (in this case, the column names, and apply a function to each item in the list. In this case, we want make each item lowercase.)"
   ]
  },
  {
   "cell_type": "code",
   "execution_count": 3,
   "metadata": {
    "scrolled": true
   },
   "outputs": [
    {
     "data": {
      "text/plain": [
       "Index(['id', 'model', 'price', 'age_08_04', 'mfg_month', 'mfg_year', 'km',\n",
       "       'fuel_type', 'hp', 'met_color', 'color', 'automatic', 'cc', 'doors',\n",
       "       'cylinders', 'gears', 'quarterly_tax', 'weight', 'mfr_guarantee',\n",
       "       'bovag_guarantee', 'guarantee_period', 'abs', 'airbag_1', 'airbag_2',\n",
       "       'airco', 'automatic_airco', 'boardcomputer', 'cd_player',\n",
       "       'central_lock', 'powered_windows', 'power_steering', 'radio',\n",
       "       'mistlamps', 'sport_model', 'backseat_divider', 'metallic_rim',\n",
       "       'radio_cassette', 'parking_assistant', 'tow_bar'],\n",
       "      dtype='object')"
      ]
     },
     "execution_count": 3,
     "metadata": {},
     "output_type": "execute_result"
    }
   ],
   "source": [
    "car_df.columns = map(str.lower, car_df.columns)\n",
    "car_df.columns"
   ]
  },
  {
   "cell_type": "markdown",
   "metadata": {},
   "source": [
    "We can see that `id` and `model` aren't useful to include, as `id` provides a unique but meaningless number for each row, and model is not important, as these are all Toyota Corollas. Let's drop those. "
   ]
  },
  {
   "cell_type": "code",
   "execution_count": 2,
   "metadata": {},
   "outputs": [],
   "source": [
    "car_df=car_df.drop(columns =['model','id']) \n",
    "car_df.columns"
   ]
  },
  {
   "cell_type": "markdown",
   "metadata": {},
   "source": [
    "Recall that we have to convert categorical variables to numbers. We only have nominal (unordered) categorical variables, so they should be converted to a set of dummy variables. \n",
    "\n",
    "We've already dropped `model`, so our two remaining categorical variables are `color` and `fuel_type`."
   ]
  },
  {
   "cell_type": "markdown",
   "metadata": {},
   "source": [
    "We use `pd.get_dummies`  to dummy-code all the variables. Each categorical variable will generate two or more dummy variables. Dropping the first dummy variable  (using the argument `drop_first`) ensures we won't have problems with perfect multicollinearity."
   ]
  },
  {
   "cell_type": "code",
   "execution_count": 9,
   "metadata": {},
   "outputs": [
    {
     "data": {
      "text/plain": [
       "Index(['price', 'age_08_04', 'mfg_month', 'mfg_year', 'km', 'hp', 'met_color',\n",
       "       'automatic', 'cc', 'doors', 'cylinders', 'gears', 'quarterly_tax',\n",
       "       'weight', 'mfr_guarantee', 'bovag_guarantee', 'guarantee_period', 'abs',\n",
       "       'airbag_1', 'airbag_2', 'airco', 'automatic_airco', 'boardcomputer',\n",
       "       'cd_player', 'central_lock', 'powered_windows', 'power_steering',\n",
       "       'radio', 'mistlamps', 'sport_model', 'backseat_divider', 'metallic_rim',\n",
       "       'radio_cassette', 'parking_assistant', 'tow_bar', 'fuel_type_Diesel',\n",
       "       'fuel_type_Petrol', 'color_Black', 'color_Blue', 'color_Green',\n",
       "       'color_Grey', 'color_Red', 'color_Silver', 'color_Violet',\n",
       "       'color_White', 'color_Yellow'],\n",
       "      dtype='object')"
      ]
     },
     "execution_count": 9,
     "metadata": {},
     "output_type": "execute_result"
    }
   ],
   "source": [
    "car_df = pd.get_dummies(car_df, drop_first=True)\n",
    "car_df.columns"
   ]
  },
  {
   "cell_type": "markdown",
   "metadata": {},
   "source": [
    "Let's use bracket notation with the new column names to again select the first three rows. What do we see? The first car (row index equal to 0) had a blue car that used diesel. We see below that fuel_type_Diesel = 1, color_Blue = 1, and all the other dummy variables are equal to 0.\n",
    "\n",
    "For a car with fuel type CNG, what would fuel_type_Diesel and fuel_type_Petrol equal?\n",
    "\n",
    "How would I know from these new dummy variables that a car is Beige?"
   ]
  },
  {
   "cell_type": "code",
   "execution_count": 1,
   "metadata": {},
   "outputs": [
    {
     "ename": "SyntaxError",
     "evalue": "invalid syntax (<ipython-input-1-fe851e3eb291>, line 5)",
     "output_type": "error",
     "traceback": [
      "\u001b[0;36m  File \u001b[0;32m\"<ipython-input-1-fe851e3eb291>\"\u001b[0;36m, line \u001b[0;32m5\u001b[0m\n\u001b[0;31m    ---\u001b[0m\n\u001b[0m       ^\u001b[0m\n\u001b[0;31mSyntaxError\u001b[0m\u001b[0;31m:\u001b[0m invalid syntax\n"
     ]
    }
   ],
   "source": [
    "car_df[['fuel_type_Diesel', 'fuel_type_Petrol', 'color_Black', 'color_Blue', 'color_Green',\n",
    "       'color_Grey', 'color_Red', 'color_Silver', 'color_Violet',\n",
    "       'color_White', 'color_Yellow']].head(3)"
   ]
  },
  {
   "cell_type": "markdown",
   "metadata": {},
   "source": [
    "---"
   ]
  },
  {
   "cell_type": "markdown",
   "metadata": {},
   "source": [
    "## Model Building"
   ]
  },
  {
   "cell_type": "markdown",
   "metadata": {},
   "source": [
    "Now, we can finally move on to what we're really interested in - using a regularization technique called LASSO to help us decide which predictors we should include in our model."
   ]
  },
  {
   "cell_type": "markdown",
   "metadata": {},
   "source": [
    "Let's define our predictors and outcome variable. **Lasso will help me determine which, if any, predictor variables I should drop.** \n",
    "\n",
    "We'll then create the training and test sets, using our `X` and `y` objects."
   ]
  },
  {
   "cell_type": "code",
   "execution_count": 22,
   "metadata": {},
   "outputs": [
    {
     "data": {
      "text/html": [
       "<div>\n",
       "<style scoped>\n",
       "    .dataframe tbody tr th:only-of-type {\n",
       "        vertical-align: middle;\n",
       "    }\n",
       "\n",
       "    .dataframe tbody tr th {\n",
       "        vertical-align: top;\n",
       "    }\n",
       "\n",
       "    .dataframe thead th {\n",
       "        text-align: right;\n",
       "    }\n",
       "</style>\n",
       "<table border=\"1\" class=\"dataframe\">\n",
       "  <thead>\n",
       "    <tr style=\"text-align: right;\">\n",
       "      <th></th>\n",
       "      <th>age_08_04</th>\n",
       "      <th>km</th>\n",
       "      <th>fuel_type_Petrol</th>\n",
       "      <th>fuel_type_Diesel</th>\n",
       "      <th>hp</th>\n",
       "      <th>met_color</th>\n",
       "      <th>automatic</th>\n",
       "      <th>cc</th>\n",
       "      <th>doors</th>\n",
       "      <th>quarterly_tax</th>\n",
       "      <th>weight</th>\n",
       "    </tr>\n",
       "  </thead>\n",
       "  <tbody>\n",
       "    <tr>\n",
       "      <th>1238</th>\n",
       "      <td>75</td>\n",
       "      <td>82256</td>\n",
       "      <td>1</td>\n",
       "      <td>0</td>\n",
       "      <td>110</td>\n",
       "      <td>1</td>\n",
       "      <td>0</td>\n",
       "      <td>1600</td>\n",
       "      <td>3</td>\n",
       "      <td>69</td>\n",
       "      <td>1050</td>\n",
       "    </tr>\n",
       "    <tr>\n",
       "      <th>1085</th>\n",
       "      <td>79</td>\n",
       "      <td>131500</td>\n",
       "      <td>0</td>\n",
       "      <td>1</td>\n",
       "      <td>72</td>\n",
       "      <td>0</td>\n",
       "      <td>0</td>\n",
       "      <td>2000</td>\n",
       "      <td>5</td>\n",
       "      <td>185</td>\n",
       "      <td>1140</td>\n",
       "    </tr>\n",
       "    <tr>\n",
       "      <th>680</th>\n",
       "      <td>61</td>\n",
       "      <td>102106</td>\n",
       "      <td>1</td>\n",
       "      <td>0</td>\n",
       "      <td>110</td>\n",
       "      <td>0</td>\n",
       "      <td>0</td>\n",
       "      <td>1600</td>\n",
       "      <td>3</td>\n",
       "      <td>69</td>\n",
       "      <td>1050</td>\n",
       "    </tr>\n",
       "    <tr>\n",
       "      <th>593</th>\n",
       "      <td>50</td>\n",
       "      <td>22648</td>\n",
       "      <td>1</td>\n",
       "      <td>0</td>\n",
       "      <td>97</td>\n",
       "      <td>1</td>\n",
       "      <td>0</td>\n",
       "      <td>1400</td>\n",
       "      <td>5</td>\n",
       "      <td>85</td>\n",
       "      <td>1060</td>\n",
       "    </tr>\n",
       "    <tr>\n",
       "      <th>647</th>\n",
       "      <td>68</td>\n",
       "      <td>117000</td>\n",
       "      <td>0</td>\n",
       "      <td>1</td>\n",
       "      <td>72</td>\n",
       "      <td>0</td>\n",
       "      <td>0</td>\n",
       "      <td>2000</td>\n",
       "      <td>3</td>\n",
       "      <td>185</td>\n",
       "      <td>1115</td>\n",
       "    </tr>\n",
       "    <tr>\n",
       "      <th>...</th>\n",
       "      <td>...</td>\n",
       "      <td>...</td>\n",
       "      <td>...</td>\n",
       "      <td>...</td>\n",
       "      <td>...</td>\n",
       "      <td>...</td>\n",
       "      <td>...</td>\n",
       "      <td>...</td>\n",
       "      <td>...</td>\n",
       "      <td>...</td>\n",
       "      <td>...</td>\n",
       "    </tr>\n",
       "    <tr>\n",
       "      <th>715</th>\n",
       "      <td>62</td>\n",
       "      <td>90000</td>\n",
       "      <td>1</td>\n",
       "      <td>0</td>\n",
       "      <td>110</td>\n",
       "      <td>0</td>\n",
       "      <td>0</td>\n",
       "      <td>1600</td>\n",
       "      <td>3</td>\n",
       "      <td>69</td>\n",
       "      <td>1050</td>\n",
       "    </tr>\n",
       "    <tr>\n",
       "      <th>905</th>\n",
       "      <td>65</td>\n",
       "      <td>59000</td>\n",
       "      <td>1</td>\n",
       "      <td>0</td>\n",
       "      <td>110</td>\n",
       "      <td>0</td>\n",
       "      <td>0</td>\n",
       "      <td>1600</td>\n",
       "      <td>3</td>\n",
       "      <td>69</td>\n",
       "      <td>1050</td>\n",
       "    </tr>\n",
       "    <tr>\n",
       "      <th>1096</th>\n",
       "      <td>75</td>\n",
       "      <td>125400</td>\n",
       "      <td>1</td>\n",
       "      <td>0</td>\n",
       "      <td>110</td>\n",
       "      <td>0</td>\n",
       "      <td>0</td>\n",
       "      <td>1600</td>\n",
       "      <td>3</td>\n",
       "      <td>69</td>\n",
       "      <td>1050</td>\n",
       "    </tr>\n",
       "    <tr>\n",
       "      <th>235</th>\n",
       "      <td>38</td>\n",
       "      <td>60829</td>\n",
       "      <td>1</td>\n",
       "      <td>0</td>\n",
       "      <td>110</td>\n",
       "      <td>1</td>\n",
       "      <td>0</td>\n",
       "      <td>1600</td>\n",
       "      <td>5</td>\n",
       "      <td>85</td>\n",
       "      <td>1075</td>\n",
       "    </tr>\n",
       "    <tr>\n",
       "      <th>1061</th>\n",
       "      <td>78</td>\n",
       "      <td>161775</td>\n",
       "      <td>1</td>\n",
       "      <td>0</td>\n",
       "      <td>86</td>\n",
       "      <td>1</td>\n",
       "      <td>0</td>\n",
       "      <td>1300</td>\n",
       "      <td>3</td>\n",
       "      <td>69</td>\n",
       "      <td>1015</td>\n",
       "    </tr>\n",
       "  </tbody>\n",
       "</table>\n",
       "<p>861 rows × 11 columns</p>\n",
       "</div>"
      ],
      "text/plain": [
       "      age_08_04      km  fuel_type_Petrol  fuel_type_Diesel   hp  met_color  \\\n",
       "1238         75   82256                 1                 0  110          1   \n",
       "1085         79  131500                 0                 1   72          0   \n",
       "680          61  102106                 1                 0  110          0   \n",
       "593          50   22648                 1                 0   97          1   \n",
       "647          68  117000                 0                 1   72          0   \n",
       "...         ...     ...               ...               ...  ...        ...   \n",
       "715          62   90000                 1                 0  110          0   \n",
       "905          65   59000                 1                 0  110          0   \n",
       "1096         75  125400                 1                 0  110          0   \n",
       "235          38   60829                 1                 0  110          1   \n",
       "1061         78  161775                 1                 0   86          1   \n",
       "\n",
       "      automatic    cc  doors  quarterly_tax  weight  \n",
       "1238          0  1600      3             69    1050  \n",
       "1085          0  2000      5            185    1140  \n",
       "680           0  1600      3             69    1050  \n",
       "593           0  1400      5             85    1060  \n",
       "647           0  2000      3            185    1115  \n",
       "...         ...   ...    ...            ...     ...  \n",
       "715           0  1600      3             69    1050  \n",
       "905           0  1600      3             69    1050  \n",
       "1096          0  1600      3             69    1050  \n",
       "235           0  1600      5             85    1075  \n",
       "1061          0  1300      3             69    1015  \n",
       "\n",
       "[861 rows x 11 columns]"
      ]
     },
     "execution_count": 22,
     "metadata": {},
     "output_type": "execute_result"
    }
   ],
   "source": [
    "outcome = 'price'\n",
    "predictors = ['age_08_04', 'km', 'fuel_type_Petrol', 'fuel_type_Diesel', 'hp', 'met_color', 'automatic', 'cc', 'doors', 'quarterly_tax', 'weight']\n",
    "\n",
    "X = car_df[predictors] \n",
    "y = car_df[outcome] \n",
    "\n",
    "train_X, valid_X, train_y, valid_y = train_test_split(X, y, test_size=0.4, random_state=1) \n",
    "train_X"
   ]
  },
  {
   "cell_type": "markdown",
   "metadata": {},
   "source": [
    "Remember that in a LASSO model, we penalize large coefficient estimates. The magnitude of a coefficient estimate can vary depending on the units of the variable. We address this by standardizing our data."
   ]
  },
  {
   "cell_type": "code",
   "execution_count": 23,
   "metadata": {},
   "outputs": [],
   "source": [
    "#Standardization\n",
    "\n",
    "from sklearn.preprocessing import StandardScaler\n",
    "\n",
    "scaler = StandardScaler()\n",
    "train_X=scaler.fit_transform(train_X)\n",
    "valid_X=scaler.transform(valid_X)"
   ]
  },
  {
   "cell_type": "markdown",
   "metadata": {},
   "source": [
    "Fitting a LASSO model is very similar to fitting an MLR model, except we'll need to specify the penalty parameter, $\\lambda$. Somewhat confusingly, we specify $\\lambda$ in the `alpha` argument in the LASSO function. (LASSO is an algorithm in the scikit learn package.)\n",
    "\n",
    "We need to take the following steps.\n",
    "1. Choose a value for $\\lambda$ (the penalty parameter). Below, we set it to equal 1.\n",
    "2. Initialize the LASSO algorithm, setting the $\\lambda$ value (alpha argument)\n",
    "3. Fit the model using the training data (this finds the best coefficients AKA the $\\hat{\\beta}_i$s)\n",
    "4. Use the results (that is, use the coefficient estimates) from the fitted model to predict the outcome (price) for the validation data"
   ]
  },
  {
   "cell_type": "code",
   "execution_count": 24,
   "metadata": {},
   "outputs": [],
   "source": [
    "# Step 1: Set lambda\n",
    "lambda_val = 1\n",
    "\n",
    "# Step 2: load the lasso regression algorithm into an object called \"car_lasso\"\n",
    "car_lasso = Lasso(alpha = lambda_val)\n",
    "\n",
    "# Step 3: fit the lasso model using the training data\n",
    "car_lasso.fit(train_X, train_y)\n",
    "\n",
    "# Step 4 use the fitted model to predict the outcome for the validation data\n",
    "car_lasso_predict = car_lasso.predict(valid_X)"
   ]
  },
  {
   "cell_type": "code",
   "execution_count": 25,
   "metadata": {},
   "outputs": [
    {
     "name": "stdout",
     "output_type": "stream",
     "text": [
      "\n",
      "Regression statistics\n",
      "\n",
      "                      Mean Error (ME) : 64.5717\n",
      "       Root Mean Squared Error (RMSE) : 1259.5856\n",
      "            Mean Absolute Error (MAE) : 967.8394\n",
      "          Mean Percentage Error (MPE) : -0.4177\n",
      "Mean Absolute Percentage Error (MAPE) : 9.6713\n"
     ]
    }
   ],
   "source": [
    "regressionSummary(valid_y, car_lasso_predict)"
   ]
  },
  {
   "cell_type": "code",
   "execution_count": 3,
   "metadata": {},
   "outputs": [
    {
     "ename": "NameError",
     "evalue": "name 'car_lasso' is not defined",
     "output_type": "error",
     "traceback": [
      "\u001b[0;31m---------------------------------------------------------------------------\u001b[0m",
      "\u001b[0;31mNameError\u001b[0m                                 Traceback (most recent call last)",
      "\u001b[0;32m<ipython-input-3-2769a97fc663>\u001b[0m in \u001b[0;36m<module>\u001b[0;34m\u001b[0m\n\u001b[1;32m      1\u001b[0m \u001b[0;31m# Estimated coefficients\u001b[0m\u001b[0;34m\u001b[0m\u001b[0;34m\u001b[0m\u001b[0;34m\u001b[0m\u001b[0m\n\u001b[0;32m----> 2\u001b[0;31m \u001b[0mcar_lasso\u001b[0m\u001b[0;34m.\u001b[0m\u001b[0mcoef_\u001b[0m\u001b[0;34m\u001b[0m\u001b[0;34m\u001b[0m\u001b[0m\n\u001b[0m",
      "\u001b[0;31mNameError\u001b[0m: name 'car_lasso' is not defined"
     ]
    }
   ],
   "source": [
    "# Estimated coefficients\n",
    "car_lasso.coef_"
   ]
  },
  {
   "cell_type": "markdown",
   "metadata": {},
   "source": [
    "In the previous step, we used a $\\lambda$ value of 1 when fitting the LASSO regression model. However, how do we know whether 1 is a good choice for $\\lambda$? We don't!\n",
    "\n",
    "The beauty of Python is that we can quickly try lots of different $\\lambda$ values and find the one that does best, where doing best means minimizing the error. To do this, we'll put the above steps into a for loop, where we fit a LASSO regression model for many different values of $\\lambda$. We can then choose the $\\lambda$ value that results in the best prediction (lowest error).\n",
    "\n",
    "---"
   ]
  },
  {
   "cell_type": "markdown",
   "metadata": {},
   "source": [
    "## Plotting 𝜆  values"
   ]
  },
  {
   "cell_type": "markdown",
   "metadata": {},
   "source": [
    "Now, let's use the create a for loop to fit the LASSO regression model for many different $\\lambda$ values. Let's break this down into several steps.\n",
    "\n",
    "First, decide what you want to use as your $\\lambda$ values. We put this $\\lambda$ values into a list. I've created a few lists of $\\lambda$ values below. I've commented out all but one - you can uncomment to try to different lists or even make your own.\n",
    "\n",
    "For whatever list I create, I save the length of the list (that is, the number of $\\lambda$ in my list) as `l_num`."
   ]
  },
  {
   "cell_type": "code",
   "execution_count": 51,
   "metadata": {},
   "outputs": [],
   "source": [
    "# Define lambda to be used in LASS0 \n",
    "# lambdas = [0.1,1,5,10]\n",
    "# lambdas = (0.1,1,5,10,100,500,1000)\n",
    "lambdas = list(range(1, 40, 2))\n",
    "\n",
    "# Length of lambda\n",
    "l_num = len(lambdas)"
   ]
  },
  {
   "cell_type": "markdown",
   "metadata": {},
   "source": [
    "Next, create an empty array (sort of a fancy list) to hold the hold the prediction accuracy measure for each fitted model. Remember, we'll have the same number of models as we have $\\lambda$s in our list above, so we create an array that is the same length. We put in zeros as placeholders."
   ]
  },
  {
   "cell_type": "code",
   "execution_count": 52,
   "metadata": {},
   "outputs": [],
   "source": [
    "# initilize a vector to hold values of RMSE\n",
    "valid_RMSE = np.zeros(l_num)"
   ]
  },
  {
   "cell_type": "markdown",
   "metadata": {},
   "source": [
    "<p>Now we're ready for our for loop! For every single $\\lambda$ in our list above, we want to fit a LASSO regression model, using that $\\lambda$ value. So, we need to iterate through our list of $\\lambda$s. As I iterate through the list, I get two pieces of information about the $\\lambda$: the index (it's order in the list) and the actual $\\lambda$ value.</p>"
   ]
  },
  {
   "cell_type": "markdown",
   "metadata": {},
   "source": [
    "Okay, finally ready to put the for loop code together with the LASSO code! Let's do it."
   ]
  },
  {
   "cell_type": "code",
   "execution_count": 54,
   "metadata": {},
   "outputs": [],
   "source": [
    "# enumerate through lambdas with index and val\n",
    "for ind, val in enumerate(lambdas):  \n",
    "    # Initialize the lasso regression by setting the penalty parameter equal to lambda[ind]\n",
    "    car_lasso = Lasso(alpha = val)\n",
    "    # Fit the lasso model using training data\n",
    "    car_lasso.fit(train_X, train_y)\n",
    "    # Calculate the error using the RMSE function and using the validation set data\n",
    "    # Save this RMSE into the appropriate position in the RMSE array    \n",
    "    valid_RMSE[ind] = rmse(valid_y,car_lasso.predict(valid_X))"
   ]
  },
  {
   "cell_type": "markdown",
   "metadata": {},
   "source": [
    "We've now fit {l_num} models and for each one we've saved the RMSE. Let's look at how they do using a plot!\n",
    "\n",
    "When you run the code, you'll see that for a smaller lambda value, the RMSE is higher (overfitting). As lambda increases, my RMSE starts to drop; the sweet spot is at around lambda = 5. As my $\\lambda$ continutes to increase, my RMSE shoots up, my lambda starts to increase again. For these larger lambdas, I'm penalizing the magnitude of the coefficients to the point where I'm shrinking lots of the coefficients to zero, which means I'm (implicitly) dropping a lot of predictors out of my model. In this case, I'm underfitting."
   ]
  },
  {
   "cell_type": "code",
   "execution_count": 55,
   "metadata": {},
   "outputs": [
    {
     "data": {
      "image/png": "[encoded data removed]",
      "text/plain": [
       "<Figure size 1296x576 with 1 Axes>"
      ]
     },
     "metadata": {
      "needs_background": "light"
     },
     "output_type": "display_data"
    }
   ],
   "source": [
    "plt.figure(figsize=(18, 8))\n",
    "plt.plot(lambdas,valid_RMSE, 'bo-', label=r'$RMSE$ Test set', color=\"darkred\", alpha=0.6, linewidth=3)\n",
    "plt.xlabel('Lambda value'); plt.ylabel(r'$RMSE$')\n",
    "#plt.xlim(0, 6)\n",
    "plt.title(r'Evaluate lasso regression with different lambdas')\n",
    "plt.legend(loc='best')\n",
    "plt.grid()"
   ]
  },
  {
   "cell_type": "code",
   "execution_count": 44,
   "metadata": {},
   "outputs": [
    {
     "name": "stdout",
     "output_type": "stream",
     "text": [
      "The estimated coefficient for age_08_04 is -2358.8\n",
      "The estimated coefficient for km is -624.17\n",
      "The estimated coefficient for fuel_type_Petrol is 467.24\n",
      "The estimated coefficient for fuel_type_Diesel is 762.1\n",
      "The estimated coefficient for hp is 867.94\n",
      "The estimated coefficient for met_color is 7.74\n",
      "The estimated coefficient for automatic is 87.39\n",
      "The estimated coefficient for cc is -631.48\n",
      "The estimated coefficient for doors is 19.36\n",
      "The estimated coefficient for quarterly_tax is 466.77\n",
      "The estimated coefficient for weight is 841.14\n"
     ]
    }
   ],
   "source": [
    "car_lasso = Lasso(alpha = 13)\n",
    "car_lasso.fit(train_X, train_y)\n",
    "car_lasso.coef_\n",
    "\n",
    "for ind, val in enumerate(car_lasso.coef_):  \n",
    "    predvar = predictors[ind]\n",
    "    print(\"The estimated coefficient for\",predvar,\"is\",round(val,2))"
   ]
  },
  {
   "cell_type": "markdown",
   "metadata": {},
   "source": [
    "Let's look at the \"paths\" of the coefficients as $\\lambda$ increases. To do this, we take the following steps.\n",
    "1. Set the list of $\\lambda$s. Use a wider range to see when the coefficients are pushed down to zero.\n",
    "2. Run the LASSO model for each of the $\\lambda$ in the list. Save the coefficients generated from each fitted model\n",
    "3. Create a plot of each of the coefficient estimates as a function of $\\lambda$.\n",
    "\n",
    "Notice how as $\\lambda$ increases, the magnitude of more and more of the coefficients are pushed towards zero? By the time $\\lambda$ is 100, only `age_08_04`, `hp`, `quarterly_tax`, `weight`, and `km` have non-zero coefficients. "
   ]
  },
  {
   "cell_type": "code",
   "execution_count": 48,
   "metadata": {},
   "outputs": [
    {
     "data": {
      "image/png": "[encoded data removed]",
      "text/plain": [
       "<Figure size 2160x720 with 1 Axes>"
      ]
     },
     "metadata": {
      "needs_background": "light"
     },
     "output_type": "display_data"
    }
   ],
   "source": [
    "# Set lambdas\n",
    "lambdas = [0.1,15,50,100,500,1000, 3000]\n",
    "\n",
    "# Fit lasso regression for each lambda, save coefficients\n",
    "coefs = []\n",
    "for val in lambdas:\n",
    "    car_lasso = Lasso(alpha = val)\n",
    "    car_lasso.fit(train_X, train_y)\n",
    "    coefs.append(car_lasso.coef_)\n",
    "    \n",
    "    \n",
    "# Generate a plot\n",
    "# Use log scale so that we can see it a little more easily\n",
    "fig, ax = plt.subplots(figsize=(30, 10))\n",
    "\n",
    "ax.plot(lambdas, coefs, marker=\"o\")\n",
    "ax.set_xscale('log')\n",
    "plt.xlabel('lambda')\n",
    "plt.ylabel('Coefficients (beta hats)')\n",
    "plt.title('Lasso coefficients as a function of choice of lambda')\n",
    "plt.axis('tight')\n",
    "plt.legend(predictors,prop={'size': 15})\n",
    "\n",
    "plt.show()"
   ]
  }
 ],
 "metadata": {
  "kernelspec": {
   "display_name": "Python 3",
   "language": "python",
   "name": "python3"
  },
  "language_info": {
   "codemirror_mode": {
    "name": "ipython",
    "version": 3
   },
   "file_extension": ".py",
   "mimetype": "text/x-python",
   "name": "python",
   "nbconvert_exporter": "python",
   "pygments_lexer": "ipython3",
   "version": "3.9.0"
  },
  "varInspector": {
   "cols": {
    "lenName": 16,
    "lenType": 16,
    "lenVar": 40
   },
   "kernels_config": {
    "python": {
     "delete_cmd_postfix": "",
     "delete_cmd_prefix": "del ",
     "library": "var_list.py",
     "varRefreshCmd": "print(var_dic_list())"
    },
    "r": {
     "delete_cmd_postfix": ") ",
     "delete_cmd_prefix": "rm(",
     "library": "var_list.r",
     "varRefreshCmd": "cat(var_dic_list()) "
    }
   },
   "types_to_exclude": [
    "module",
    "function",
    "builtin_function_or_method",
    "instance",
    "_Feature"
   ],
   "window_display": true
  }
 },
 "nbformat": 4,
 "nbformat_minor": 4
}
