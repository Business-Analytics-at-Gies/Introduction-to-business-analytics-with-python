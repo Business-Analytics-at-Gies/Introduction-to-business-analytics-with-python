{
 "cells": [
  {
   "cell_type": "markdown",
   "metadata": {},
   "source": [
    "# Exploratory Data Analysis & Data Visualization"
   ]
  },
  {
   "cell_type": "markdown",
   "metadata": {},
   "source": [
    "## Import packages and data"
   ]
  },
  {
   "cell_type": "code",
   "execution_count": null,
   "metadata": {
    "collapsed": true
   },
   "outputs": [],
   "source": [
    "%matplotlib inline\n",
    "\n",
    "from pathlib import Path\n",
    "\n",
    "import pandas as pd\n",
    "import numpy as np\n",
    "import seaborn as sns\n",
    "import missingno as msno\n",
    "\n",
    "import matplotlib.pylab as plt"
   ]
  },
  {
   "cell_type": "markdown",
   "metadata": {},
   "source": [
    "**Task 0**: Load the file Universities.csv. \n",
    "\n",
    "Notice the path is different, because we're accessing the file in a different folder."
   ]
  },
  {
   "cell_type": "code",
   "execution_count": null,
   "metadata": {
    "collapsed": true
   },
   "outputs": [],
   "source": [
    "data_df = pd.???(\"../resource/lib/public/Universities.csv\")"
   ]
  },
  {
   "cell_type": "markdown",
   "metadata": {},
   "source": [
    "## Inspect the data"
   ]
  },
  {
   "cell_type": "markdown",
   "metadata": {},
   "source": [
    "**Task 1**: Display the FIRST five rows of the dataframe. \n",
    "\n",
    "What if we wanted to see the first 10 rows?"
   ]
  },
  {
   "cell_type": "code",
   "execution_count": null,
   "metadata": {
    "collapsed": true
   },
   "outputs": [],
   "source": [
    "# Put your code in this cell"
   ]
  },
  {
   "cell_type": "markdown",
   "metadata": {},
   "source": [
    "**Task 2**: Display the LAST five rows of the dataframe. "
   ]
  },
  {
   "cell_type": "code",
   "execution_count": null,
   "metadata": {
    "collapsed": true
   },
   "outputs": [],
   "source": [
    "# Put your code in this cell"
   ]
  },
  {
   "cell_type": "markdown",
   "metadata": {},
   "source": [
    "**Task 3**: Display a summary of the columns in the dataframe (column name, non-null count, dtype)."
   ]
  },
  {
   "cell_type": "code",
   "execution_count": null,
   "metadata": {
    "collapsed": true
   },
   "outputs": [],
   "source": [
    "# Put your code in this cell"
   ]
  },
  {
   "cell_type": "markdown",
   "metadata": {},
   "source": [
    "**Task 4**: Display summary statistics for each of the numerical columns in the dataframe."
   ]
  },
  {
   "cell_type": "code",
   "execution_count": null,
   "metadata": {
    "collapsed": true
   },
   "outputs": [],
   "source": [
    "# Put your code in this cell"
   ]
  },
  {
   "cell_type": "markdown",
   "metadata": {},
   "source": [
    "If we want to focus on just a few of these values, we can construct a version of this ourselves. (**Hint**: You'll need this for the homework!)\n",
    "\n",
    "Notice, this code works by creating a dictionary and then converting it to a dataframe."
   ]
  },
  {
   "cell_type": "code",
   "execution_count": null,
   "metadata": {
    "collapsed": true
   },
   "outputs": [],
   "source": [
    "pd.DataFrame({'mean': data_df.mean(),\n",
    "              'sd': data_df.std(),\n",
    "              'min': data_df.min(),\n",
    "              'max': data_df.max(),\n",
    "              'median': data_df.median(),\n",
    "              'length': len(data_df),\n",
    "              'miss.val': data_df.isnull().sum()\n",
    "             })"
   ]
  },
  {
   "cell_type": "markdown",
   "metadata": {},
   "source": [
    "For categorical variables, it's important to understand how many samples of each type we have in our dataset. If there's significant imbalance, it will be difficult to predict certain groups.  In this dataset, our only categorical variable is Public_or_Private.\n",
    "\n",
    "**Task 5**: Display the number of Private and Public Universities.  Use the `value_counts` method.\n",
    "\n",
    "Note that 2 indicates private and 1 indicates public."
   ]
  },
  {
   "cell_type": "code",
   "execution_count": null,
   "metadata": {
    "collapsed": true
   },
   "outputs": [],
   "source": [
    "# Put your code in this cell"
   ]
  },
  {
   "cell_type": "markdown",
   "metadata": {},
   "source": [
    "Would we ever use this with continuous variables (floats)? What would happen? You can try this below. There are too many to compare!"
   ]
  },
  {
   "cell_type": "code",
   "execution_count": null,
   "metadata": {
    "collapsed": true
   },
   "outputs": [],
   "source": [
    "# Put your code in this cell"
   ]
  },
  {
   "cell_type": "markdown",
   "metadata": {},
   "source": [
    "### Rename variables"
   ]
  },
  {
   "cell_type": "markdown",
   "metadata": {},
   "source": [
    "Remember, some characters cause problems when used in column names. In the code below, we change those characters into underscores. Usually, we have to do this for empty spaces. In this case, I've noticed hyphens, percentage signs and a forward slash, so I also want to remove those.\n",
    "\n",
    "**Task 6**: Replace the forward slash `/` with an underscore `_` and rename the percentage signs `%` as 'prct'.\n",
    "\n",
    "What if we didn't do this? Would dot notation work?"
   ]
  },
  {
   "cell_type": "code",
   "execution_count": null,
   "metadata": {
    "collapsed": true
   },
   "outputs": [],
   "source": [
    "# change hyphens into underscores in variable names\n",
    "data_df.columns = [s.replace('-', '_') for s in data_df.columns] \n",
    "\n",
    "# change forward slash into underscore in variable names\n",
    "data_df.columns = [s.replace('/', ?) for s in data_df.columns] \n",
    "\n",
    "# remove percentage sign in variable names\n",
    "data_df.columns = [s.replace('%', ?) for s in data_df.columns] \n",
    "\n",
    "# removing leading/trailing spaces and change remaining spaces into underscores in variable names\n",
    "data_df.columns = [s.strip().replace(' ', '_') for s in data_df.columns] \n",
    "\n",
    "# Alternately, do this in one line of code\n",
    "# data_df.columns = [s.strip().replace(' ', '_').replace('-', '_').replace('/', '_').replace('%', 'prct') for s in data_df.columns] \n",
    "\n",
    "data_df.columns"
   ]
  },
  {
   "cell_type": "markdown",
   "metadata": {},
   "source": [
    "<div class=\"alert alert-info\">\n",
    "Your code before and after this point will refer to some variables differently! Be aware of this when rerunning cells or restarting the kernel.    \n",
    "</div>"
   ]
  },
  {
   "cell_type": "markdown",
   "metadata": {},
   "source": [
    "## Data Visualization"
   ]
  },
  {
   "cell_type": "markdown",
   "metadata": {},
   "source": [
    "### Scatterplots"
   ]
  },
  {
   "cell_type": "markdown",
   "metadata": {},
   "source": [
    "Now that we've inspected our data and fixed the variable names, let's move on to visualizing our data. We'll start with scatterplots, which we use to visualize the relationship between two numerical variables. \n",
    "\n",
    "We can create scatterplots using either pandas or matplotlib. We'll use pandas first. Breaking down the code below, we have:\n",
    "1. **data_df**: specify the dataframe name\n",
    "1. **plot**: use plot function\n",
    "1. **scatter**: kind of plot\n",
    "    + x='variable': variable on x-axis (and axis label)\n",
    "    + y='variable': variable on y-axis  (and axis label)\n",
    "    + legend boolean, include legend or not\n",
    "    + color: of points\n",
    "\n",
    "Here's the [pandas documentation](https://pandas.pydata.org/pandas-docs/stable/reference/api/pandas.DataFrame.plot.scatter.html) if you want to see more. \n",
    "\n",
    "**Task 7** Fill in the ??s below to compare the in-state tuition amount to the graduation rate."
   ]
  },
  {
   "cell_type": "code",
   "execution_count": null,
   "metadata": {
    "collapsed": true
   },
   "outputs": [],
   "source": [
    "# the basic pandas scatterplot\n",
    "data_df.plot.scatter(x=??, y=??, legend=False, color='orange')"
   ]
  },
  {
   "cell_type": "markdown",
   "metadata": {},
   "source": [
    "We can use Matplot lib to create a slightly more sophisticated scatterplot. In addition to the above option, it allows us to set the size and both the inner  and outer color of the point (`facecolor` and `color`, respectively). Here's an example."
   ]
  },
  {
   "cell_type": "code",
   "execution_count": null,
   "metadata": {
    "collapsed": true
   },
   "outputs": [],
   "source": [
    "# Matplotlib scatterplot\n",
    "\n",
    "# extracts two elements, fig (the picture itself) and ax (the plot or graph)\n",
    "fig, ax = plt.subplots() \n",
    "\n",
    "# sets the size of the plot to 5 x 3 inches\n",
    "fig.set_size_inches(5, 3) \n",
    "\n",
    "# assigns scatterplot\n",
    "ax.scatter(data_df.in_state_tuition, data_df.Graduation_rate, color='purple', facecolor='coral') \n",
    "\n",
    "# set axis labels, may be different than the variable names\n",
    "plt.xlabel('Resident Tuition') \n",
    "plt.ylabel('Graduation Rate')\n",
    "\n",
    "# makes the size of the plot the same as the frame (no margin)\n",
    "plt.tight_layout() \n",
    "\n",
    "# required to display the plot\n",
    "plt.show() "
   ]
  },
  {
   "cell_type": "markdown",
   "metadata": {},
   "source": [
    "**Task 8** Recreate the plot above, but change the  size to 10 x 6, change the colors to whatever you like, and fill in any remaining ??s. \n",
    "\n",
    "Here's a [list of colors](https://matplotlib.org/3.1.0/gallery/color/named_colors.html) for your reference. (Scroll down to CSS colors at the bottom of the page.)"
   ]
  },
  {
   "cell_type": "code",
   "execution_count": null,
   "metadata": {
    "collapsed": true
   },
   "outputs": [],
   "source": [
    "# Recreate the plot shown above by reentering some parameters and changing others\n",
    "\n",
    "# extracts two elements, fig (the picture itself) and ax (the plot or graph)\n",
    "fig, ax = plt.subplots() \n",
    "\n",
    "# sets the size of the plot to 10 x 6 inches\n",
    "fig.set_size_inches(??, ??) \n",
    "\n",
    "# assigns scatterplot\n",
    "ax.scatter(??.in_state_tuition, ??.Graduation_rate, color=??, facecolor=??) \n",
    "\n",
    "# set axis labels, may be different than the variable names\n",
    "plt.xlabel('Resident Tuition') \n",
    "plt.ylabel('Graduation Rate')\n",
    "\n",
    "# makes the size of the plot the same as the frame (no margin)\n",
    "plt.tight_layout() \n",
    "\n",
    "# required to display the plot\n",
    "plt.show() "
   ]
  },
  {
   "cell_type": "markdown",
   "metadata": {},
   "source": [
    "We saw above there seem to be two different groups. Let's see if color can help us figure out what's going on. We'll do this using our lone categorical variable `Public_or_Private`, and we'll color the points differently based on that value.\n",
    "\n",
    "We do this by using `if` and `else` to specify the color of each point. We'll use one color if `Public_or_Private` equals 2 (private) and another if it equals 1 (public).\n",
    "\n",
    "**Task 9** Fill in the ??s below with two different colors."
   ]
  },
  {
   "cell_type": "code",
   "execution_count": null,
   "metadata": {
    "collapsed": true
   },
   "outputs": [],
   "source": [
    "fig, ax = plt.subplots() \n",
    "fig.set_size_inches(10, 6) \n",
    "\n",
    "ax.scatter(data_df.in_state_tuition, data_df.Graduation_rate, \n",
    "           color=[?? if c == 2 else ?? for c in data_df.Public_or_Private]\n",
    "          ) \n",
    "\n",
    "plt.xlabel('Resident Tuition') \n",
    "plt.ylabel('Graduation Rate')\n",
    "plt.tight_layout() \n",
    "plt.show() "
   ]
  },
  {
   "cell_type": "markdown",
   "metadata": {},
   "source": [
    "Now, let's explore another relationship. We can use our basic pandas scatterplot to do this.\n",
    "\n",
    "**Task 10:** Display the relationship between the in-state tuition amount (x-axis) and the number of new students (y-axis)."
   ]
  },
  {
   "cell_type": "code",
   "execution_count": null,
   "metadata": {
    "collapsed": true
   },
   "outputs": [],
   "source": [
    "# the basic pandas scatterplot\n",
    "data_df.plot.scatter(x='??', y='??', legend=False, color='mediumblue')"
   ]
  },
  {
   "cell_type": "markdown",
   "metadata": {},
   "source": [
    "Notice it looks a little squished? The scales of the variables are different, it makes it hard to see clear patterns. We can address this by using the log function to transform variables.\n",
    "\n",
    "We do this in two steps. \n",
    "1. Add two new variables to our dataset, by taking the log of both the x-axis variable and the y-axis variable. \n",
    "    + Use the `log` function in the numpy library. \n",
    "    + When taking the log, make sure to add 1, in case the original value is equal to 0. (log(0) is undefined.)\n",
    "2. Use those new variables when generating the scatterplot.\n",
    "\n",
    "**Task 11**: Fill in the ??s below to finish defining the new variables and plot them."
   ]
  },
  {
   "cell_type": "code",
   "execution_count": null,
   "metadata": {
    "collapsed": true
   },
   "outputs": [],
   "source": [
    "# create new variables\n",
    "data_df['New_students_log'] = np.log((data_df.New_students)+1)\n",
    "\n",
    "data_df['in_state_tuition_log'] = np.??((data_df.??)+??)\n",
    "\n",
    "# the basic pandas scatterplot\n",
    "data_df.plot.scatter(x=??, y=??, legend=False, color='mediumblue')"
   ]
  },
  {
   "cell_type": "markdown",
   "metadata": {},
   "source": [
    "### Bar Charts\n",
    "\n",
    "Now, let's turn to bar charts, which we use to compare a statistic for a numerical variable across different groups, given by a categorical variable. In this dataset, we have one categorical variable, so that limits our choices!\n",
    "\n",
    "Breaking this down:\n",
    "1. **data_df**: dataframe\n",
    "1. **groupby()**: categorical value to use to create groups (x-axis)\n",
    "1. **Graduation_rate**: numerical variable of interest  \n",
    "1. **mean()**: statistic to calculate for that numerical variable \n",
    "1. **plot**: plot function\n",
    "    + kind: plot type\n",
    "    + figsize: figure size\n",
    "    + color: bar color\n",
    "\n",
    "The code below uses Matplotlib to compare the average graduation rate by public vs private school."
   ]
  },
  {
   "cell_type": "code",
   "execution_count": null,
   "metadata": {
    "collapsed": true
   },
   "outputs": [],
   "source": [
    "ax = data_df.groupby('Public_or_Private').Graduation_rate.mean().plot(kind='bar', \n",
    "                                                                      figsize=[10, 6], \n",
    "                                                                      color='orangered')\n",
    "\n",
    "ax.set_ylabel('Avg. Graduation Rate')\n",
    "\n",
    "plt.tight_layout()\n",
    "plt.show()"
   ]
  },
  {
   "cell_type": "markdown",
   "metadata": {},
   "source": [
    "**Task 12:** Now compare the MEDIAN graduation rate by public vs private school. Copy the code above. What do you need to change?"
   ]
  },
  {
   "cell_type": "code",
   "execution_count": null,
   "metadata": {
    "collapsed": true
   },
   "outputs": [],
   "source": []
  },
  {
   "cell_type": "markdown",
   "metadata": {},
   "source": [
    "### Line Graph"
   ]
  },
  {
   "cell_type": "markdown",
   "metadata": {},
   "source": [
    "To create a line graph, we'll use a different dataset, that captures the daily number of bike rentals and other relevant information about the day, like whether it was a working day, whether, and the type of rentals."
   ]
  },
  {
   "cell_type": "code",
   "execution_count": null,
   "metadata": {
    "collapsed": true
   },
   "outputs": [],
   "source": [
    "# Import the data\n",
    "# bike_df = pd.read_csv('../resource/lib/public/bicycle_by_day.csv', squeeze=True)\n",
    "bike_df = pd.read_csv('bicycle_by_day.csv', squeeze=True)"
   ]
  },
  {
   "cell_type": "code",
   "execution_count": null,
   "metadata": {
    "collapsed": true
   },
   "outputs": [],
   "source": [
    "# Show the first five rows of data\n",
    "bike_df.head()"
   ]
  },
  {
   "cell_type": "code",
   "execution_count": null,
   "metadata": {
    "collapsed": true
   },
   "outputs": [],
   "source": [
    "# Show a list of the columns, number of values, and Pandas data types\n",
    "bike_df.info()"
   ]
  },
  {
   "cell_type": "markdown",
   "metadata": {},
   "source": [
    "In order to create a line graph, we first need to create a new `Date` column with the proper format. we do this using pandas date/time function, as shown below. Let's break down the code we use:\n",
    "1. **pd**: using the pandas library\n",
    "2. **to_datetime**: call function to convert argument to pandas datetime object\n",
    "3. **bike_df.dteday**: dataframe column to be converted\n",
    "4. **format**: specifies format\n",
    "\n",
    "No task here, just run the code."
   ]
  },
  {
   "cell_type": "code",
   "execution_count": null,
   "metadata": {
    "collapsed": true
   },
   "outputs": [],
   "source": [
    "bike_df['Date'] = pd.to_datetime(bike_df.dteday, format='%m/%d/%Y')"
   ]
  },
  {
   "cell_type": "markdown",
   "metadata": {},
   "source": [
    "To understand what's going on, let's compare our old and new date columns. See the difference?"
   ]
  },
  {
   "cell_type": "code",
   "execution_count": null,
   "metadata": {
    "collapsed": true
   },
   "outputs": [],
   "source": [
    "bike_df[['dteday','Date']].head()"
   ]
  },
  {
   "cell_type": "markdown",
   "metadata": {},
   "source": [
    "Now, we need to create the time series. We do this by creating a series using the `cnt` column (our numerical variable of interest) with the `Date` column as our index. The `to_numpy` method converts the series to a Numpy array.\n",
    "\n",
    "**Task 13:** Set the `Date` column as the index."
   ]
  },
  {
   "cell_type": "code",
   "execution_count": null,
   "metadata": {
    "collapsed": true
   },
   "outputs": [],
   "source": [
    "# Put code here to create the time series for rental\n",
    "rental_ts = pd.Series(bike_df.cnt.to_numpy(), index=??)"
   ]
  },
  {
   "cell_type": "markdown",
   "metadata": {},
   "source": [
    "Let's take a look at this time series. (It is a series, not a dataframe.)"
   ]
  },
  {
   "cell_type": "code",
   "execution_count": null,
   "metadata": {
    "collapsed": true
   },
   "outputs": [],
   "source": [
    "print(type(rental_ts)); rental_ts"
   ]
  },
  {
   "cell_type": "markdown",
   "metadata": {},
   "source": [
    "Finally ready to plot! Below is the code to do that. Let's look at what each part of the code means:\n",
    "\n",
    "1. **rental_ts**: series\n",
    "1. **plot**: plot function\n",
    "    + kind: Not specified! Default is line\n",
    "    + ylim: range (limits) of the y-axis\n",
    "    + legend: include legend or not\n",
    "    + figsize: figure size\n",
    "    + color: line color"
   ]
  },
  {
   "cell_type": "code",
   "execution_count": null,
   "metadata": {
    "collapsed": true
   },
   "outputs": [],
   "source": [
    "rental_ts.plot(ylim=[0, 10000], \n",
    "               legend=False, \n",
    "               figsize=[6, 4], \n",
    "               color='darkorange')\n",
    "\n",
    "plt.xlabel('Year')  # set x-axis label\n",
    "plt.ylabel('Rentals')  # set y-axis label\n",
    "\n",
    "plt.tight_layout()\n",
    "plt.show()"
   ]
  },
  {
   "cell_type": "markdown",
   "metadata": {},
   "source": [
    "### Boxplots\n",
    "\n",
    "Boxplots are a common type of distribution plot. Below, we show a boxplot that compares the graduation rate for public and private schools.\n",
    "1. **data_df**: dataframe\n",
    "1. **boxplot**: call boxplot function\n",
    "    + column: numerical variable\n",
    "    + by: categorical variable to group data by"
   ]
  },
  {
   "cell_type": "code",
   "execution_count": null,
   "metadata": {
    "collapsed": true
   },
   "outputs": [],
   "source": [
    "ax = data_df.boxplot(column='Graduation_rate', by='Public_or_Private')\n",
    "\n",
    "ax.set_ylabel('Graduation Rate')\n",
    "\n",
    "plt.suptitle('')  # Suppress the overall title\n",
    "plt.title('')\n",
    "\n",
    "plt.show()"
   ]
  },
  {
   "cell_type": "markdown",
   "metadata": {},
   "source": [
    "**Task 14:** What happens if you remove the `by` argument above? Try it in the cell below."
   ]
  },
  {
   "cell_type": "code",
   "execution_count": null,
   "metadata": {
    "collapsed": true
   },
   "outputs": [],
   "source": [
    "# Put your code in this cell"
   ]
  },
  {
   "cell_type": "markdown",
   "metadata": {},
   "source": [
    "Next, let's compare a few different variables for public and private schools. Below, I compare book and personal costs, as well as the percentage of students from the top 10 and 25 percent of their high school class.\n",
    "\n",
    "**Task 15:** Fill in the ??s to specify we want all 4 figures listed in a a row."
   ]
  },
  {
   "cell_type": "code",
   "execution_count": null,
   "metadata": {
    "collapsed": true
   },
   "outputs": [],
   "source": [
    "fig, axes = plt.subplots(nrows=??, ncols=??, figsize = (10, 6))\n",
    "\n",
    "data_df.boxplot(column='book_costs', by='Public_or_Private', ax=axes[0])\n",
    "\n",
    "data_df.boxplot(column='personal_costs', by='Public_or_Private', ax=axes[1])\n",
    "\n",
    "data_df.boxplot(column='Percent_from_top_10%', by='Public_or_Private', ax=axes[2])\n",
    "\n",
    "data_df.boxplot(column='Percent_from_top_25%', by='Public_or_Private', ax=axes[3])\n",
    "\n",
    "for ax in axes:\n",
    "    ax.set_xlabel('Public or Private Schools')\n",
    "    \n",
    "plt.suptitle('')  # Suppress the overall title\n",
    "plt.tight_layout()  # Increase the separation between the plots\n",
    "\n",
    "plt.show()"
   ]
  },
  {
   "cell_type": "markdown",
   "metadata": {},
   "source": [
    "### Histograms"
   ]
  },
  {
   "cell_type": "markdown",
   "metadata": {},
   "source": [
    "Here's a simple histogram using the seaborn library (another data visualization library based on matplotlib).\n",
    "\n",
    "Fun fact: internet sleuths have discovered that this is, in fact, [named for Sam Seaborn](https://stackoverflow.com/questions/41499857/seaborn-why-import-as-sns). These are the things I Google while making these notebooks for you.\n",
    "\n",
    "Let's breakdown the code:\n",
    "1. **sns:** using the seaborn library\n",
    "2. **histplot:** call histplot function\n",
    "    + data_df.variable: numerical variable\n",
    "    + bins: number of bins, if blank auto-selects\n",
    "    + color: you guessed it, color!"
   ]
  },
  {
   "cell_type": "code",
   "execution_count": null,
   "metadata": {
    "collapsed": true
   },
   "outputs": [],
   "source": [
    "fig, ax = plt.subplots(1,1)\n",
    "\n",
    "sns.histplot(data_df.Graduation_rate, \n",
    "             bins=10,\n",
    "             color='orange'\n",
    "            )\n",
    "\n",
    "ax.set_title('Grad Rate Distribution', fontsize=20)\n",
    "ax.set(xlabel='Grad Rate', ylabel='count')"
   ]
  },
  {
   "cell_type": "markdown",
   "metadata": {},
   "source": [
    "We can add in a kernel density estimator, which shows a smoothed estimate of the population density. Note that `kde` is an argument in the `histplot` function that we used above. The default value of `kde` is False.\n",
    "\n",
    "**Task 16:** Reuse the code above to create a histogram, and add in the kernel density estimator."
   ]
  },
  {
   "cell_type": "code",
   "execution_count": null,
   "metadata": {
    "collapsed": true
   },
   "outputs": [],
   "source": [
    "# Put your code in this cell"
   ]
  },
  {
   "cell_type": "markdown",
   "metadata": {},
   "source": [
    "### Special charts"
   ]
  },
  {
   "cell_type": "markdown",
   "metadata": {},
   "source": [
    "Correlation tables are a (relatively) concise way to display the correlation between different variables in our dataframe. However, they show a lot of information and can be difficult to digest. We solve this by using a heat map."
   ]
  },
  {
   "cell_type": "code",
   "execution_count": null,
   "metadata": {
    "collapsed": true
   },
   "outputs": [],
   "source": [
    "data_df.corr()"
   ]
  },
  {
   "cell_type": "markdown",
   "metadata": {},
   "source": [
    "#### Correlation Heatmap"
   ]
  },
  {
   "cell_type": "markdown",
   "metadata": {},
   "source": [
    "Below, we use the correlation table defined above, but we add a heatmap. Let's breakdown the code:\n",
    "1. **sns:** using the seaborn library\n",
    "2. **heatmap:** call heatmap function\n",
    "    + ???: first positional argument, the correlation table\n",
    "    + annot: if True, write data values in each cell\n",
    "    + fmt: string formatting code for each value, # indicates decimal places\n",
    "    + cmap: colormap to use, RdBu is another\n",
    "    \n",
    "**Task 17:** Fill in the ?? below and display the correlation heatmap."
   ]
  },
  {
   "cell_type": "code",
   "execution_count": null,
   "metadata": {
    "collapsed": true
   },
   "outputs": [],
   "source": [
    "corr = data_df.corr() # create correlation table\n",
    "\n",
    "fig, ax = plt.subplots()\n",
    "\n",
    "fig.set_size_inches(11, 7)\n",
    "\n",
    "sns.heatmap(??, annot=True, fmt=\".1f\", cmap=\"RdBu_r\", center=0, ax=ax)\n",
    "\n",
    "plt.show()"
   ]
  },
  {
   "cell_type": "markdown",
   "metadata": {},
   "source": [
    "#### Missing Value Analysis"
   ]
  },
  {
   "cell_type": "markdown",
   "metadata": {},
   "source": [
    "Finally, we can generate a bar chart to quickly see which variables are missing values. This code is simple, and I'm sure we're all tired if we have reached the end, so nothing for you to do except run the cell!"
   ]
  },
  {
   "cell_type": "code",
   "execution_count": null,
   "metadata": {
    "collapsed": true
   },
   "outputs": [],
   "source": [
    "msno.bar(data_df, color='deepskyblue')"
   ]
  }
 ],
 "metadata": {
  "kernelspec": {
   "display_name": "Python 3 [3.7]",
   "language": "python",
   "name": "python3"
  },
  "language_info": {
   "codemirror_mode": {
    "name": "ipython",
    "version": 3
   },
   "file_extension": ".py",
   "mimetype": "text/x-python",
   "name": "python",
   "nbconvert_exporter": "python",
   "pygments_lexer": "ipython3",
   "version": "3.7.5"
  },
  "varInspector": {
   "cols": {
    "lenName": 16,
    "lenType": 16,
    "lenVar": 40
   },
   "kernels_config": {
    "python": {
     "delete_cmd_postfix": "",
     "delete_cmd_prefix": "del ",
     "library": "var_list.py",
     "varRefreshCmd": "print(var_dic_list())"
    },
    "r": {
     "delete_cmd_postfix": ") ",
     "delete_cmd_prefix": "rm(",
     "library": "var_list.r",
     "varRefreshCmd": "cat(var_dic_list()) "
    }
   },
   "types_to_exclude": [
    "module",
    "function",
    "builtin_function_or_method",
    "instance",
    "_Feature"
   ],
   "window_display": true
  }
 },
 "nbformat": 4,
 "nbformat_minor": 4
}
