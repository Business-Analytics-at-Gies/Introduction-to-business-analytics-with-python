{
 "cells": [
  {
   "cell_type": "markdown",
   "metadata": {
    "collapsed": true
   },
   "source": [
    "# EDA + Data Visualization"
   ]
  },
  {
   "cell_type": "markdown",
   "metadata": {},
   "source": [
    "Exploratory data analysis is comprised of three parts:"
   ]
  },
  {
   "cell_type": "markdown",
   "metadata": {
    "collapsed": true
   },
   "source": [
    "**Data Inspection:**\n",
    "\n",
    "This will start by looking at the raw data. This can be done by using functions such as head(), describe(), info(), etc.\n",
    "\n",
    "The head() function will print the first n rows of the dataset.\n",
    "\n",
    "```\n",
    "random_df.head(5)\n",
    "```\n",
    "\n",
    "The tail() function is similar to the head() function; it will print the last n rows of the dataset.\n",
    "\n",
    "```\n",
    "random_df.tail(5)\n",
    "```\n",
    "\n",
    "The describe() function computes summary statistics of your data, i.e. mean, count, median, quartile 1 value, quartile 3 value, and more.\n",
    "\n",
    "```\n",
    "random_df.describe()\n",
    "```\n",
    "\n",
    "The info() function prints a summary of your dataset. Specifically, it identifies the number of non-null observations per variable as well as the type of each variable.\n",
    "\n",
    "```\n",
    "random_df.info()\n",
    "```"
   ]
  },
  {
   "cell_type": "markdown",
   "metadata": {},
   "source": [
    "**Data Exploration:**\n",
    "\n",
    "Data exploration calls for exploring further relationships between variables. Examples of ways to explore these relationships are by cross-tabulation (which is used for analysis of categorical data) and dimension reduction (which is used to reduce the amount of unnecessary data in your model), both of which improve accuracy and speed up computing. \n",
    "\n",
    "**Data Visualization**\n",
    "\n",
    "Data visualization calls for visualizing relationships between variables. Some of the common data visualizations are as follows:"
   ]
  },
  {
   "cell_type": "markdown",
   "metadata": {},
   "source": [
    "## Basic Charts\n",
    "\n",
    "These charts will display two variables (or columns) of data.\n",
    "\n",
    "Ex: Bar charts, scatter plots, line graphs"
   ]
  },
  {
   "cell_type": "markdown",
   "metadata": {
    "collapsed": true
   },
   "source": [
    "*   **Bar Charts** - compare a **single statistic** across groups\n",
    "    *   Horizontal (x-axis): categorical variable\n",
    "    *   Vertical (y-axis): “statistic” of a numerical variable (ex. count, mean, median, etc.)\n",
    "  <tr>\n",
    "   <td>\n",
    "\n",
    "\n",
    "```\n",
    "ax = random_df.groupby('categorical_variable_of_interest').categorical_variable_of_interest.mean().plot\n",
    "(kind='bar', figsize=[10, 6], color='orangered')\n",
    "\n",
    "ax.set_ylabel('label_here')\n",
    "\n",
    "plt.tight_layout()\n",
    "plt.show()\n",
    "```\n",
    "**(Bar chart example needed here)**"
   ]
  },
  {
   "cell_type": "markdown",
   "metadata": {},
   "source": [
    "*   **Scatter plot** - comparing two **numerical variables**\n",
    "    *   Horizontal (x-axis): numerical variable\n",
    "    *   Vertical (y-axis): also a numerical variable\n",
    "    \n",
    "```\n",
    "random_df.plot.scatter(x= \"variable_1\", y=\"variable_2\", legend=False, color='orange')\n",
    "```\n",
    "**(Scatter plot example needed here)**"
   ]
  },
  {
   "cell_type": "markdown",
   "metadata": {},
   "source": [
    "*   **Line graph** - display **numerical variable** (or statistic) over **time**\n",
    "    *   Horizontal (x-axis): date/time variable\n",
    "    *   Vertical (y-axis): numerical variable\n",
    "\n",
    "First, add Date/Time variable\n",
    "```\n",
    "random_df['Date'] = pd.to_datetime(random_df.dteday, format='%m/%d/%Y')\n",
    "```\n",
    "Next, set Date column as index\n",
    "```\n",
    "random_ts = pd.Series(random_df.cnt.to_numpy(), index=random_df[\"Date\"])\n",
    "```\n",
    "**Note: This is a time series, not a data frame.**\n",
    "\n",
    "Lastly, plot your Line Graph.\n",
    "```\n",
    "random_ts.plot(ylim=[0, 10000], \n",
    "               legend=False, \n",
    "               figsize=[6, 4], \n",
    "               color='darkorange')\n",
    "\n",
    "plt.xlabel('x_label_here')  # set x-axis label\n",
    "plt.ylabel('y_label_here')  # set y-axis label\n",
    "\n",
    "plt.tight_layout()\n",
    "plt.show()\n",
    "```\n",
    "**(Line graph example needed here)**"
   ]
  },
  {
   "cell_type": "markdown",
   "metadata": {},
   "source": [
    "**Distribution Plots**\n",
    "\n",
    "Display distribution of a single numerical variable\n",
    "\n",
    "Ex. Histograms, Box plots"
   ]
  },
  {
   "cell_type": "markdown",
   "metadata": {},
   "source": [
    "*   **Histogram** - represents **frequency** of values with vertical bars\n",
    "    *   Horizontal (x-axis): numerical variable, potentially “binned”\n",
    "    *   Vertical (y-axis): frequency for that same variable\n",
    "    *   Note: For continuous data or data with many possible values, **group values into bins** or a series of ranges (ex. One bin contains all values between 20 and 40)\n",
    "\n",
    "```\n",
    "fig, ax = plt.subplots(1,1)\n",
    "\n",
    "sns.histplot(random_df.numerical_variable_of_interest, bins=10, color='orange')\n",
    "\n",
    "ax.set_title('Variable Distribution', fontsize=20)\n",
    "ax.set(xlabel='x_label', ylabel='count')\n",
    "```\n",
    "**(Histogram Example needed here)**"
   ]
  },
  {
   "cell_type": "markdown",
   "metadata": {},
   "source": [
    "*   **Box plots** - Display **range** and partial distribution of a numerical value\n",
    "    *   Quartile 1: 25% of the data below/to the left of this point\n",
    "    *   Median: 50% of the data below/to the left of this point; “Middle” value of a variable\n",
    "    *   Quartile 3: 75% of the data below/to the left of this point\n",
    "    *   Interquartile Range (IQR): IQR = Q3 - Q1; measure of dispersion\n",
    "```\n",
    "ax = data_df.boxplot(column='numerical_variable')\n",
    "ax.set_ylabel('y_label')\n",
    "plt.suptitle('') # Suppress the overall title\n",
    "plt.title('')\n",
    "plt.show()\n",
    "```\n",
    "**(Basic boxplot example here)**"
   ]
  },
  {
   "cell_type": "markdown",
   "metadata": {},
   "source": [
    "*   Box plot for comparison - Often used to compare distribution across groups (against categorical variables)\n",
    "    *   Horizontal (x-axis): categorical variable\n",
    "    *   Vertical (y-axis): numerical variable\n",
    "```\n",
    "ax = random_df.boxplot(column='numerical_variable', by='categorical_variable')\n",
    "ax.set_ylabel('y_label')\n",
    "plt.suptitle('')  # Suppress the overall title\n",
    "plt.title('')\n",
    "plt.show()\n",
    "```\n",
    "**(Example of comparison boxplot here)**"
   ]
  },
  {
   "cell_type": "markdown",
   "metadata": {},
   "source": [
    "## Special charts\n",
    "\n",
    "Correlation tables are a (relatively) concise way to display the correlation between different variables in our dataframe. However, they show a lot of information and can be difficult to digest. We solve this by using a heat map.\n",
    "\n",
    "**Correlation table:**\n",
    "\n",
    "```\n",
    "random_df.corr()\n",
    "```\n",
    "**(Example of correlation table here)**\n",
    "\n",
    "**Correlation heatmap:**\n",
    "\n",
    "Below, we use the correlation table defined above, but we add a heatmap. Let's breakdown the code:\n",
    "\n",
    "*   sns: using the seaborn library\n",
    "*   heatmap: call heatmap function\n",
    "    *   corr: first positional argument, the correlation table\n",
    "    *   annot: if True, write data values in each cell\n",
    "    *   fmt: string formatting code for each value, # indicates decimal places\n",
    "    *   cmap: colormap to use, RdBu is another\n",
    "\n",
    "```\n",
    "corr = random_df.corr() # create correlation table\n",
    "fig, ax = plt.subplots()\n",
    "fig.set_size_inches(11, 7)\n",
    "sns.heatmap(corr, annot=True, fmt=\".1f\", cmap=\"RdBu_r\", center=0, ax=ax)\n",
    "plt.show()\n",
    "```\n",
    "**(Example of heatmap here)**\n",
    "\n",
    "**Missing Value Analysis:**\n",
    "\n",
    "Finally, we can generate a bar chart to quickly see which variables are missing values. \n",
    "\n",
    "```\n",
    "msno.bar(random_df, color='deepskyblue')\n",
    "```\n",
    "\n",
    "**(Example of graph here)**"
   ]
  }
 ],
 "metadata": {
  "kernelspec": {
   "display_name": "Python 3 [3.7]",
   "language": "python",
   "name": "python3"
  },
  "language_info": {
   "codemirror_mode": {
    "name": "ipython",
    "version": 3
   },
   "file_extension": ".py",
   "mimetype": "text/x-python",
   "name": "python",
   "nbconvert_exporter": "python",
   "pygments_lexer": "ipython3",
   "version": "3.7.5"
  }
 },
 "nbformat": 4,
 "nbformat_minor": 2
}
